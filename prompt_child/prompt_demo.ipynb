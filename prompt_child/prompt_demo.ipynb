{
 "cells": [
  {
   "cell_type": "code",
   "execution_count": 5,
   "metadata": {},
   "outputs": [],
   "source": [
    "import boto3, json"
   ]
  },
  {
   "cell_type": "code",
   "execution_count": null,
   "metadata": {},
   "outputs": [],
   "source": [
    "# Create the session\n",
    "bedrock = boto3.Session(profile_name='add username')\n",
    "\n",
    "# Create the bedrock-runtime client\n",
    "bedrock_runtime = bedrock.client(\n",
    "    service_name='bedrock-runtime',\n",
    ")"
   ]
  },
  {
   "cell_type": "code",
   "execution_count": null,
   "metadata": {},
   "outputs": [],
   "source": [
    "response = bedrock_runtime.invoke_model(\n",
    "    modelId=\"add arn here\",\n",
    "    body=json.dumps({\n",
    "        \"promptVariables\": {\n",
    "            \"language\": {\"text\": \"Python\"},\n",
    "            \"code_snippet\": {\"text\": \"\"\"def hello_world():\n",
    "    '''\n",
    "    A simple function that prints a greeting message\n",
    "    '''\n",
    "    print('Hello, World!')\"\"\"},\n",
    "            \"format\": {\"text\": \"markdown\"}\n",
    "        }\n",
    "    }),\n",
    "    contentType=\"application/json\",\n",
    "    accept=\"application/json\"\n",
    ")"
   ]
  },
  {
   "cell_type": "code",
   "execution_count": 8,
   "metadata": {},
   "outputs": [
    {
     "name": "stdout",
     "output_type": "stream",
     "text": [
      "{'content': [{'id': 'toolu_bdrk_01Vj35qdP4DTDXWF4o3JfxSu',\n",
      "              'input': {'code_snippet': 'def hello_world():\\n'\n",
      "                                        \"    '''\\n\"\n",
      "                                        '    A simple function that prints a '\n",
      "                                        'greeting message\\n'\n",
      "                                        \"    '''\\n\"\n",
      "                                        \"    print('Hello, World!')\",\n",
      "                        'format': 'markdown',\n",
      "                        'language': 'python'},\n",
      "              'name': 'generate_documentation',\n",
      "              'type': 'tool_use'}],\n",
      " 'id': 'msg_bdrk_01QYZGJurRPRedYWZndandYb',\n",
      " 'model': 'claude-3-haiku-20240307',\n",
      " 'role': 'assistant',\n",
      " 'stop_reason': 'tool_use',\n",
      " 'stop_sequence': None,\n",
      " 'type': 'message',\n",
      " 'usage': {'input_tokens': 506, 'output_tokens': 119}}\n"
     ]
    }
   ],
   "source": [
    "from pprint import pprint\n",
    "\n",
    "response_body = json.loads(response.get('body').read())\n",
    "pprint(response_body)"
   ]
  }
 ],
 "metadata": {
  "kernelspec": {
   "display_name": "Python 3",
   "language": "python",
   "name": "python3"
  },
  "language_info": {
   "codemirror_mode": {
    "name": "ipython",
    "version": 3
   },
   "file_extension": ".py",
   "mimetype": "text/x-python",
   "name": "python",
   "nbconvert_exporter": "python",
   "pygments_lexer": "ipython3",
   "version": "3.11.0"
  }
 },
 "nbformat": 4,
 "nbformat_minor": 2
}
